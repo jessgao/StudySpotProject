{
 "cells": [
  {
   "cell_type": "code",
   "execution_count": 2,
   "id": "f92b64e4-6ff7-443b-a6bd-44fbcf980c02",
   "metadata": {},
   "outputs": [
    {
     "name": "stdout",
     "output_type": "stream",
     "text": [
      "Collecting haversine\n",
      "  Downloading haversine-2.9.0-py2.py3-none-any.whl.metadata (5.8 kB)\n",
      "Downloading haversine-2.9.0-py2.py3-none-any.whl (7.7 kB)\n",
      "Installing collected packages: haversine\n",
      "Successfully installed haversine-2.9.0\n"
     ]
    }
   ],
   "source": [
    "!pip install haversine"
   ]
  },
  {
   "cell_type": "code",
   "execution_count": 19,
   "id": "32419daf-eee8-423a-a01b-8aaafa1c420b",
   "metadata": {},
   "outputs": [],
   "source": [
    "#import packages \n",
    "import pandas as pd\n",
    "import haversine as hs\n",
    "from haversine import Unit\n",
    "from geopy.distance import distance\n",
    "import numpy as np\n",
    "import math"
   ]
  },
  {
   "cell_type": "code",
   "execution_count": 53,
   "id": "5d491736-4c9f-43de-9a75-0f09c681e39a",
   "metadata": {},
   "outputs": [
    {
     "name": "stdout",
     "output_type": "stream",
     "text": [
      "(37, 15)\n"
     ]
    }
   ],
   "source": [
    "#Obtain locations dataframe from .csv file \n",
    "location_url = \"https://raw.githubusercontent.com/cpflynn45/Final-Project/refs/heads/main/locations_df2_filtered.csv?token=GHSAT0AAAAAACYDCC5P2OUXGZSTHZQG6NGIZ23IF2Q\"\n",
    "locations_df = pd.read_csv(location_url)\n",
    "print(locations_df.shape)"
   ]
  },
  {
   "cell_type": "code",
   "execution_count": 54,
   "id": "796c3f63-9c8e-44c4-9204-fb7fac21e85b",
   "metadata": {},
   "outputs": [
    {
     "name": "stdout",
     "output_type": "stream",
     "text": [
      "(37, 10)\n"
     ]
    }
   ],
   "source": [
    "#Obtain location review ratings dataframe from .csv file \n",
    "location_ratings_url = \"https://raw.githubusercontent.com/cpflynn45/Final-Project/refs/heads/main/location_scores2.csv?token=GHSAT0AAAAAACYDCC5OA4WXQXADSG2PAYLSZ23IGDA\"\n",
    "reviews_df = pd.read_csv(location_ratings_url)\n",
    "print(reviews_df.shape)"
   ]
  },
  {
   "cell_type": "code",
   "execution_count": 153,
   "id": "7631e669-a0e6-4589-a990-a2650e0f5ae6",
   "metadata": {},
   "outputs": [
    {
     "name": "stdout",
     "output_type": "stream",
     "text": [
      "Collecting geopy\n",
      "  Downloading geopy-2.4.1-py3-none-any.whl.metadata (6.8 kB)\n",
      "Collecting geographiclib<3,>=1.52 (from geopy)\n",
      "  Downloading geographiclib-2.0-py3-none-any.whl.metadata (1.4 kB)\n",
      "Downloading geopy-2.4.1-py3-none-any.whl (125 kB)\n",
      "Downloading geographiclib-2.0-py3-none-any.whl (40 kB)\n",
      "Installing collected packages: geographiclib, geopy\n",
      "Successfully installed geographiclib-2.0 geopy-2.4.1\n",
      "Note: you may need to restart the kernel to use updated packages.\n"
     ]
    }
   ],
   "source": [
    "pip install geopy"
   ]
  },
  {
   "cell_type": "code",
   "execution_count": 98,
   "id": "0ad72115-45ec-4424-bb38-4b1fb6c394ce",
   "metadata": {},
   "outputs": [
    {
     "name": "stdin",
     "output_type": "stream",
     "text": [
      "Enter the latitude coordinate of your starting point:  34.070002762333004\n",
      "Enter the longitude coordinate of your starting point:  -118.4438392271015\n",
      "How far are you willing to travel? (in miles):  5\n"
     ]
    },
    {
     "name": "stdout",
     "output_type": "stream",
     "text": [
      "Please input your minimum requirement rating for each feature\n",
      "Rate each feature on a scale of 1-5 (1 is least, 5 is greatest):\n"
     ]
    },
    {
     "name": "stdin",
     "output_type": "stream",
     "text": [
      "Rate Internet (1-5):  1\n",
      "Rate Price (1-5):  2\n",
      "Rate Lighting (1-5):  1\n",
      "Rate Noise (1-5):  2\n",
      "Rate Comfort (1-5):  1\n",
      "Rate Food (1-5):  2\n",
      "Rate Service (1-5):  1\n",
      "Rate Atmosphere (1-5):  1\n"
     ]
    },
    {
     "name": "stdout",
     "output_type": "stream",
     "text": [
      "Please input your rating for each feature based on personal importance\n",
      "Rate each feature on a scale of 1-5 (1 is least, 5 is greatest):\n"
     ]
    },
    {
     "name": "stdin",
     "output_type": "stream",
     "text": [
      "Rate Internet (1-5):  2\n",
      "Rate Price (1-5):  3\n",
      "Rate Lighting (1-5):  2\n",
      "Rate Noise (1-5):  4\n",
      "Rate Comfort (1-5):  5\n",
      "Rate Food (1-5):  2\n",
      "Rate Service (1-5):  3\n",
      "Rate Atmosphere (1-5):  1\n"
     ]
    },
    {
     "name": "stdout",
     "output_type": "stream",
     "text": [
      "\n",
      "Top 3 user recommendations based on your preferences:\n",
      "Caffe Luxxe. Distance is 1.56 miles. Comparison Value is  0.9349\n",
      "Elysee Bakery & Cafe. Distance is 0.70 miles. Comparison Value is  0.8832\n",
      "SIPP COFFEE HOUSE. Distance is 1.06 miles. Comparison Value is  0.8683\n"
     ]
    }
   ],
   "source": [
    "'''\n",
    "The reccomendation class goes through a series of functions and ultimatley returns the \n",
    "top 3 reccomended study spot locations for the user, as well as the distance to the location, and the \n",
    "similarity score. The functions  \n",
    "'''\n",
    "class reccomendation:\n",
    "    '''\n",
    "    The function intializes variables such as the user's location, the dataframe including all the locations, \n",
    "    and the user's maximum distance they are willing to travel. \n",
    "    Inputs: The user's latitude and longitude coordinates, the dataframe including each study spot location, \n",
    "    and the max distance the user is willing to travel in miles. \n",
    "    '''\n",
    "    def __init__(self, user_location_latitude, user_location_longitude, locations_dataframe, reviews_df, max_distance):\n",
    "        #User's starting location using latitude and longitude coordinates. Convert to float. \n",
    "        self.user_location_latitude = float(user_location_latitude)\n",
    "        self.user_location_longitude = float(user_location_longitude)\n",
    "        self.user_location = (float(user_location_latitude), float(user_location_longitude))\n",
    "        #Contains each study spot location data\n",
    "        self.locations_dataframe = locations_dataframe\n",
    "\n",
    "        #Contains each study spot's ratings \n",
    "        self.reviews_df = reviews_df\n",
    "        #User's maximum distance range, in miles. \n",
    "        self.max_distance = max_distance\n",
    "\n",
    "    '''\n",
    "    The distance function loops through each location in the locations_dataframe and calculates\n",
    "    the distance between the user and the location in miles. If the distance is within the user's maximum \n",
    "    range, the distance is appended to the distance_list. The locations dataframe is filtered based on \n",
    "    rows with a distance value. Then, the dataframe is sorted based on closest to furthest locations. \n",
    "    Output: A filtered locations dataframe only including locations in the user's maximum distance range, \n",
    "    sorted from closest to furthest location. \n",
    "    '''\n",
    "    def distance(self):\n",
    "        #Define loc1 as the user's location\n",
    "        loc1 = self.user_location\n",
    "        #Initialize list that will include distance between user and each location \n",
    "        distance_list = []\n",
    "\n",
    "        #Loop through each location, using row as an index\n",
    "        for index, row in self.locations_dataframe.iterrows(): \n",
    "            loc2_latitude = row['gps_coordinates.latitude']\n",
    "            loc2_longitude = row['gps_coordinates.longitude']\n",
    "            loc2 = (loc2_latitude, loc2_longitude)\n",
    "\n",
    "            #Calculate distance between locations using haversine function, setting unit to miles\n",
    "            #haversine calculates distance on a sphere on a 3D plane \n",
    "            calculated_distance = hs.haversine(loc1, loc2, unit=Unit.MILES)\n",
    "\n",
    "            #Append calculated distance if within range, otherwise append \"None\" \n",
    "            if calculated_distance <= self.max_distance:\n",
    "                distance_list.append(calculated_distance)\n",
    "            else:\n",
    "                distance_list.append(None)\n",
    "\n",
    "        #Add the calculated distances to a new column in the dataframe\n",
    "        self.locations_dataframe['distance'] = distance_list\n",
    "\n",
    "        #Filter the dataframe to include distance only in user's range, ie distance\n",
    "        #with values that are not \"None\". \n",
    "        filtered_df = self.locations_dataframe.dropna(subset=['distance'])\n",
    "\n",
    "        #Sort the filtered dataframe by distance\n",
    "        sorted_df = filtered_df.sort_values(by='distance')\n",
    "\n",
    "        #Merge sorted_df and reviews_df on the shared column, \"place_id\", keeping only desired columns\n",
    "        sorted_df = pd.merge(sorted_df, self.reviews_df, on='place_id', how='left')[['Place_Name', 'place_id', \n",
    "                            'Internet', 'Price', 'Lighting', 'Noise', 'Comfort', 'Food', 'Service', 'Atmosphere', 'distance',]]\n",
    "\n",
    "    \n",
    "    \n",
    "        return sorted_df\n",
    "\n",
    "    \n",
    "    '''\n",
    "    User inputs their ratings for each feature and the function \n",
    "    converts their ratings into a one row dataframe. \n",
    "    Input: user input scoring of importance of features from scale of 1-5 \n",
    "    Output: user_ratings_df, a dataframe with one row and each column is a different feature \n",
    "    '''\n",
    "    def user_input(self, type):\n",
    "        if type == \"Hard Requirement\":\n",
    "            print(\"Please input your minimum requirement rating for each feature\")\n",
    "        \n",
    "        else:\n",
    "            print(\"Please input your rating for each feature based on personal importance\")\n",
    "\n",
    "        print(\"Rate each feature on a scale of 1-5 (1 is least, 5 is greatest):\")\n",
    "        #Intiialize features list with each study spot feature\n",
    "        features = ['Internet', 'Price', 'Lighting', 'Noise', 'Comfort', 'Food', 'Service', 'Atmosphere']\n",
    "        #Initialize dictionary storing ratings for each feature\n",
    "        user_ratings = {}\n",
    "        \n",
    "        #Loop through each feature in the features list and ask for user input on importance of each feature \n",
    "        for feature in features: \n",
    "            rating = int(input(f\"Rate {feature} (1-5): \"))\n",
    "            #Add error to ensure ratings are on scale of 1-5 \n",
    "            if rating < 1 or rating > 5: \n",
    "                raise ValueError(\"Rating must be within 1-5\")\n",
    "            #Store user's rating as the value for the key in the dictionary \n",
    "            user_ratings[feature] = rating\n",
    "        \n",
    "        #Convert the user ratings into a dataframe\n",
    "        user_ratings_df = pd.DataFrame(user_ratings, index=[0])\n",
    "        return user_ratings_df  \n",
    "        \n",
    "    def get_hard_requriement(self):\n",
    "    \n",
    "        return self.user_input(\"Hard Requirement\")\n",
    "    def get_importance_rating(self):\n",
    "\t\n",
    "        return self.user_input(\"importance\")\n",
    "\n",
    "    def filtered_requirements(self, sorted_df, hard_req_df):\n",
    "         excluded_columns = [\"Place_Name\"]\n",
    "         \n",
    "         for col in sorted_df.columns:\n",
    "             if col not in excluded_columns:\n",
    "                 sorted_df[col] = pd.to_numeric(sorted_df[col], errors='coerce')\n",
    "         \n",
    "         hard_req_df = hard_req_df.apply(pd.to_numeric, errors='coerce')\n",
    "\n",
    "         # Filter rows based on hard requirements\n",
    "         valid_rows = []\n",
    "         for _, row in sorted_df.iterrows():\n",
    "             row_valid = True\n",
    "             for idx, column in enumerate(sorted_df.columns):\n",
    "                 if pd.isna(row[column]) or pd.isna(hard_req_df.iloc[0, idx]) or idx == 0:\n",
    "                     continue  # Skip NaN comparisons\n",
    "                 if row[column] < hard_req_df.iloc[0, idx]:\n",
    "                     row_valid = False\n",
    "                 break\n",
    "             if row_valid:\n",
    "                 valid_rows.append(row)\n",
    "\n",
    "         return pd.DataFrame(valid_rows, columns=sorted_df.columns)\n",
    "\n",
    "        \n",
    "    '''\n",
    "    The comparison function converts the user_rating df to a numpy array and uses numpy linear algebra \n",
    "    to compare the similarity between the user's preferences 1D array and each study spot. \n",
    "    Input: user_ratings, a data frame scoring of importance of features from scale of 1-5 \n",
    "    Output: comparison_value, a 1D numpy array with the values of how similar the ratings between the user and study spot is. \n",
    "    '''\n",
    "    \n",
    "    def compare(self, user_ratings, location_ratings_dataframe): \n",
    "        common_columns = ['Internet', 'Price', 'Lighting', 'Noise', 'Comfort', 'Food', 'Service', 'Atmosphere']\n",
    "        \n",
    "        comparison_column = []\n",
    "        \n",
    "        #Convert the user dataframe to numpy array of shape (1,8)\n",
    "        common_user_numpy = user_ratings[common_columns].to_numpy().flatten()\n",
    "       \n",
    "        for index, row in location_ratings_dataframe.iterrows():\n",
    "            #Convert the filtered dataframes to numpy arrays\n",
    "            common_location_numpy = row[common_columns].to_numpy()\n",
    "\n",
    "            #Normalize the ratings \n",
    "            common_location_normalized= common_location_numpy / np.linalg.norm(common_location_numpy)\n",
    "            #(37,9)\n",
    "            common_user_normalized = common_user_numpy / np.linalg.norm(common_user_numpy)\n",
    "            #(1,9)\n",
    "            comparison_value = np.dot(common_location_normalized, common_user_normalized.T)\n",
    "            \n",
    "            #Calculated weighted cosine similarity for location ratings \n",
    "            #weighted_location_ratings = common_location_numpy * common_user_numpy \n",
    "\n",
    "            #Add vale to list \n",
    "            comparison_column.append(comparison_value)\n",
    "\n",
    "        \n",
    "        return comparison_column\n",
    "\n",
    "#Get user inputs for location, distance, and ratings\n",
    "user_location_latitude = input(\"Enter the latitude coordinate of your starting point: \")\n",
    "user_location_longitude = input(\"Enter the longitude coordinate of your starting point: \")\n",
    "max_distance = int(input(\"How far are you willing to travel? (in miles): \"))\n",
    "\n",
    "#Create an instance of the `reccomendation` class\n",
    "reccomendation_instance = reccomendation(user_location_latitude, user_location_longitude, locations_df, reviews_df, max_distance)\n",
    "\n",
    "\n",
    "#Calculate distances and filter for the locations within specified range \n",
    "sorted_df = reccomendation_instance.distance()\n",
    "\n",
    "#Get user's hard requirement values for each feature in a dataframe \n",
    "hard_requirement = reccomendation_instance.get_hard_requriement()\n",
    "\n",
    "\n",
    "#Update sorted dataframe to only include locations that meet the hard requirements \n",
    "sorted_df = reccomendation_instance.filtered_requirements(sorted_df, hard_requirement)\n",
    "\n",
    "#Get user's importance rating values for each feature in a dataframe \n",
    "importance_rating = reccomendation_instance.get_importance_rating()\n",
    "\n",
    "#Use the compare function to compare user ratings with location ratings\n",
    "sorted_df['comparison_value'] = reccomendation_instance.compare(importance_rating, sorted_df)  \n",
    "\n",
    "\n",
    "#Round values to 4 decimal points\n",
    "sorted_df['comparison_value'] = sorted_df['comparison_value'].round(4)\n",
    "\n",
    "#Sort locations based on highest to lowest comparison values \n",
    "locations_df_sorted = sorted_df.sort_values(by='comparison_value', ascending=False)\n",
    "\n",
    "\n",
    "#Show top 3 reccomended places \n",
    "print(\"\\nTop 3 user recommendations based on your preferences:\")\n",
    "for i, row in locations_df_sorted.head(3).iterrows():\n",
    "    distance = row['distance']\n",
    "    print(f\"{row['Place_Name']}. Distance is {distance:.2f} miles. Comparison Value is  {row['comparison_value']}\")\n",
    "\n",
    "#Test coordinates = UCLA, (34.070002762333004, -118.4438392271015)"
   ]
  },
  {
   "cell_type": "markdown",
   "id": "dc02729d-0d1a-4ae7-ab53-80c3ed05bcc2",
   "metadata": {},
   "source": [
    "Example Output with Haversine Distance and user rating of [5,4,3,2,4,5,2,3], max distance of 3 miles \n",
    "Top 3 user recommendations based on your preferences:\n",
    "Bluestone Lane Westwood Coffee Shop. Distance is 0.51 miles. Comparison Value is  0.9092\n",
    "Teaspoon Sawtelle. Distance is 2.01 miles. Comparison Value is  0.8944\n",
    "Court of Sciences Store. Distance is 0.14 miles. Comparison Value is  0.8933"
   ]
  },
  {
   "cell_type": "markdown",
   "id": "b4749ee3-bdd7-48c3-818a-64db00233af2",
   "metadata": {},
   "source": [
    "Google Map Distances (walking): \n",
    "Bluestone Lane Westwood Coffee Shop  = .6 miles \n",
    "Teaspoon Sawtelle: 2.5 miles\n",
    "Court of Sciences Store = .2 miles "
   ]
  },
  {
   "cell_type": "markdown",
   "id": "72f6db21-227b-47e0-9f53-d9e75725f707",
   "metadata": {},
   "source": [
    "Euclidian Distances: \n",
    "Bluestone Lane Westwood Coffee Shop  = . miles \n",
    "Teaspoon Sawtelle: 3.3 by car. \n",
    "Court of Sciences Store = .2 miles "
   ]
  },
  {
   "cell_type": "markdown",
   "id": "f31d5078-2c68-4779-9ce0-126c249e3cc6",
   "metadata": {},
   "source": [
    "Euclidian [5, 4, 5, 5, 2, 5, 4, 3, 5]\n",
    "The Study. Distance is 0.53 miles. Comparison Value is  0.9046\n",
    "Bluestone Lane Westwood Coffee Shop. Distance is 0.51 miles. Comparison Value is  0.8869\n",
    "Verve Coffee Roasters. Distance is 3.31 miles. Comparison Value is  0.8842"
   ]
  },
  {
   "cell_type": "code",
   "execution_count": null,
   "id": "4bb37419-9acb-45cd-9977-d5b69fd4f7a0",
   "metadata": {},
   "outputs": [],
   "source": [
    "Haversine "
   ]
  }
 ],
 "metadata": {
  "kernelspec": {
   "display_name": "Python 3 (ipykernel)",
   "language": "python",
   "name": "python3"
  },
  "language_info": {
   "codemirror_mode": {
    "name": "ipython",
    "version": 3
   },
   "file_extension": ".py",
   "mimetype": "text/x-python",
   "name": "python",
   "nbconvert_exporter": "python",
   "pygments_lexer": "ipython3",
   "version": "3.9.20"
  }
 },
 "nbformat": 4,
 "nbformat_minor": 5
}
